{
 "cells": [
  {
   "cell_type": "markdown",
   "metadata": {},
   "source": [
    "## Data Ingestion"
   ]
  },
  {
   "cell_type": "code",
   "execution_count": 5,
   "metadata": {},
   "outputs": [
    {
     "data": {
      "text/plain": [
       "'d:\\\\[1] Study\\\\[3] Data Science\\\\[6] Projects\\\\Text-Summarization-App'"
      ]
     },
     "execution_count": 5,
     "metadata": {},
     "output_type": "execute_result"
    }
   ],
   "source": [
    "import os\n",
    "\n",
    "%pwd"
   ]
  },
  {
   "cell_type": "code",
   "execution_count": 4,
   "metadata": {},
   "outputs": [
    {
     "data": {
      "text/plain": [
       "'d:\\\\[1] Study\\\\[3] Data Science\\\\[6] Projects\\\\Text-Summarization-App'"
      ]
     },
     "execution_count": 4,
     "metadata": {},
     "output_type": "execute_result"
    }
   ],
   "source": [
    "# I need to go back as of now to get to the root folder\n",
    "\n",
    "os.chdir(\"../\")\n",
    "\n",
    "%pwd"
   ]
  },
  {
   "cell_type": "code",
   "execution_count": 17,
   "metadata": {},
   "outputs": [],
   "source": [
    "# Entity is written type of the function\n",
    "# Entity Creation for data ingestion\n",
    "\n",
    "from dataclasses import dataclass\n",
    "from pathlib import Path\n",
    "\n",
    "@dataclass(frozen=True)\n",
    "class Data_Ingestion_Config:\n",
    "    root_dir: Path\n",
    "    source_url: str\n",
    "    local_data_file: Path\n",
    "    unzip_dir: Path"
   ]
  },
  {
   "cell_type": "code",
   "execution_count": 18,
   "metadata": {},
   "outputs": [],
   "source": [
    "# Updating the configuration manager\n",
    "\n",
    "from textSummarizerApp.constants import *\n",
    "from textSummarizerApp.utils.common import read_yaml, create_directories\n",
    "\n",
    "\n",
    "class Configuration_Manager:\n",
    "    def __init__(self, config_path = str(CONFIG_FILE_PATH),\n",
    "        params_path = str(PARAMS_FILE_PATH)):\n",
    "        \n",
    "        self.config = read_yaml(config_path)\n",
    "        self.params = read_yaml(params_path)\n",
    "        create_directories([self.config.artifacts_root])\n",
    "\n",
    "    def get_data_ingestion_config(self) -> Data_Ingestion_Config:\n",
    "        config = self.config.data_ingestion\n",
    "\n",
    "        create_directories([config.root_dir])\n",
    "\n",
    "        data_ingestion_config = Data_Ingestion_Config(\n",
    "            root_dir = config.root_dir,\n",
    "            source_url = config.source_URL,\n",
    "            local_data_file = config.local_data_file,\n",
    "            unzip_dir = config.unzip_dir\n",
    "        )\n",
    "\n",
    "        return data_ingestion_config"
   ]
  },
  {
   "cell_type": "code",
   "execution_count": 19,
   "metadata": {},
   "outputs": [],
   "source": [
    "# Update the components\n",
    "\n",
    "import os\n",
    "import urllib.request as request\n",
    "import zipfile\n",
    "from textSummarizerApp.utils.common import get_size\n",
    "from textSummarizerApp.logging import logger\n",
    "\n",
    "class Data_Ingestion:\n",
    "    def __init__(self, config: Data_Ingestion_Config):\n",
    "        self.config = config\n",
    "\n",
    "    def download_file(self):\n",
    "        if not os.path.exists(self.config.local_data_file):\n",
    "            filename, headers = request.urlretrieve(\n",
    "                url = self.config.source_URL,\n",
    "                filename = self.config.local_data_file\n",
    "            )\n",
    "            logger.info(f\"Downloaded file {filename} with information \\n{headers}\")\n",
    "        else:\n",
    "            logger.info(f\"File already exists of size: {get_size(Path(self.config.local_data_file))}\")\n",
    "\n",
    "\n",
    "    def unzip_file(self):\n",
    "        unzip_path = self.config.unzip_dir\n",
    "        os.makedirs(unzip_path, exist_ok=True)\n",
    "\n",
    "        with zipfile.ZipFile(self.config.local_data_file, 'r') as zip_ref:\n",
    "            zip_ref.extractall(unzip_path)\n"
   ]
  },
  {
   "cell_type": "code",
   "execution_count": 20,
   "metadata": {},
   "outputs": [
    {
     "name": "stdout",
     "output_type": "stream",
     "text": [
      "[2023-09-18 21:02:06,067: INFO: common: yaml file: config\\config.yaml loaded successfully]\n"
     ]
    },
    {
     "ename": "ValueError",
     "evalue": "Error reading yaml file: config\\config.yaml",
     "output_type": "error",
     "traceback": [
      "\u001b[1;31m---------------------------------------------------------------------------\u001b[0m",
      "\u001b[1;31mNameError\u001b[0m                                 Traceback (most recent call last)",
      "File \u001b[1;32md:\\[1] study\\[3] data science\\[6] projects\\text-summarization-app\\src\\textSummarizerApp\\utils\\common.py:33\u001b[0m, in \u001b[0;36mread_yaml\u001b[1;34m(filepath)\u001b[0m\n\u001b[0;32m     31\u001b[0m         logger\u001b[39m.\u001b[39minfo(\u001b[39mf\u001b[39m\u001b[39m\"\u001b[39m\u001b[39myaml file: \u001b[39m\u001b[39m{\u001b[39;00mfilepath\u001b[39m}\u001b[39;00m\u001b[39m loaded successfully\u001b[39m\u001b[39m\"\u001b[39m)\n\u001b[1;32m---> 33\u001b[0m         \u001b[39mreturn\u001b[39;00m ConfigBox(content)\n\u001b[0;32m     34\u001b[0m \u001b[39mexcept\u001b[39;00m \u001b[39mFileNotFoundError\u001b[39;00m:\n",
      "\u001b[1;31mNameError\u001b[0m: name 'content' is not defined",
      "\nThe above exception was the direct cause of the following exception:\n",
      "\u001b[1;31mValueError\u001b[0m                                Traceback (most recent call last)",
      "\u001b[1;32md:\\[1] Study\\[3] Data Science\\[6] Projects\\Text-Summarization-App\\research\\01_data_ingestion.ipynb Cell 7\u001b[0m line \u001b[0;36m1\n\u001b[0;32m      <a href='vscode-notebook-cell:/d%3A/%5B1%5D%20Study/%5B3%5D%20Data%20Science/%5B6%5D%20Projects/Text-Summarization-App/research/01_data_ingestion.ipynb#X11sZmlsZQ%3D%3D?line=8'>9</a>\u001b[0m     data_ingestion\u001b[39m.\u001b[39munzip_file()\n\u001b[0;32m     <a href='vscode-notebook-cell:/d%3A/%5B1%5D%20Study/%5B3%5D%20Data%20Science/%5B6%5D%20Projects/Text-Summarization-App/research/01_data_ingestion.ipynb#X11sZmlsZQ%3D%3D?line=9'>10</a>\u001b[0m \u001b[39mexcept\u001b[39;00m \u001b[39mException\u001b[39;00m \u001b[39mas\u001b[39;00m e:\n\u001b[1;32m---> <a href='vscode-notebook-cell:/d%3A/%5B1%5D%20Study/%5B3%5D%20Data%20Science/%5B6%5D%20Projects/Text-Summarization-App/research/01_data_ingestion.ipynb#X11sZmlsZQ%3D%3D?line=10'>11</a>\u001b[0m     \u001b[39mraise\u001b[39;00m e\n",
      "\u001b[1;32md:\\[1] Study\\[3] Data Science\\[6] Projects\\Text-Summarization-App\\research\\01_data_ingestion.ipynb Cell 7\u001b[0m line \u001b[0;36m5\n\u001b[0;32m      <a href='vscode-notebook-cell:/d%3A/%5B1%5D%20Study/%5B3%5D%20Data%20Science/%5B6%5D%20Projects/Text-Summarization-App/research/01_data_ingestion.ipynb#X11sZmlsZQ%3D%3D?line=0'>1</a>\u001b[0m \u001b[39m# Creating the pipline\u001b[39;00m\n\u001b[0;32m      <a href='vscode-notebook-cell:/d%3A/%5B1%5D%20Study/%5B3%5D%20Data%20Science/%5B6%5D%20Projects/Text-Summarization-App/research/01_data_ingestion.ipynb#X11sZmlsZQ%3D%3D?line=1'>2</a>\u001b[0m \u001b[39m# first need to initialize the configuration manager\u001b[39;00m\n\u001b[0;32m      <a href='vscode-notebook-cell:/d%3A/%5B1%5D%20Study/%5B3%5D%20Data%20Science/%5B6%5D%20Projects/Text-Summarization-App/research/01_data_ingestion.ipynb#X11sZmlsZQ%3D%3D?line=3'>4</a>\u001b[0m \u001b[39mtry\u001b[39;00m:\n\u001b[1;32m----> <a href='vscode-notebook-cell:/d%3A/%5B1%5D%20Study/%5B3%5D%20Data%20Science/%5B6%5D%20Projects/Text-Summarization-App/research/01_data_ingestion.ipynb#X11sZmlsZQ%3D%3D?line=4'>5</a>\u001b[0m     config \u001b[39m=\u001b[39m Configuration_Manager()\n\u001b[0;32m      <a href='vscode-notebook-cell:/d%3A/%5B1%5D%20Study/%5B3%5D%20Data%20Science/%5B6%5D%20Projects/Text-Summarization-App/research/01_data_ingestion.ipynb#X11sZmlsZQ%3D%3D?line=5'>6</a>\u001b[0m     data_ingestion_config \u001b[39m=\u001b[39m config\u001b[39m.\u001b[39mget_data_ingestion_config()\n\u001b[0;32m      <a href='vscode-notebook-cell:/d%3A/%5B1%5D%20Study/%5B3%5D%20Data%20Science/%5B6%5D%20Projects/Text-Summarization-App/research/01_data_ingestion.ipynb#X11sZmlsZQ%3D%3D?line=6'>7</a>\u001b[0m     data_ingestion \u001b[39m=\u001b[39m Data_Ingestion(config\u001b[39m=\u001b[39mdata_ingestion_config)\n",
      "\u001b[1;32md:\\[1] Study\\[3] Data Science\\[6] Projects\\Text-Summarization-App\\research\\01_data_ingestion.ipynb Cell 7\u001b[0m line \u001b[0;36m1\n\u001b[0;32m      <a href='vscode-notebook-cell:/d%3A/%5B1%5D%20Study/%5B3%5D%20Data%20Science/%5B6%5D%20Projects/Text-Summarization-App/research/01_data_ingestion.ipynb#X11sZmlsZQ%3D%3D?line=7'>8</a>\u001b[0m \u001b[39mdef\u001b[39;00m \u001b[39m__init__\u001b[39m(\u001b[39mself\u001b[39m, config_path \u001b[39m=\u001b[39m \u001b[39mstr\u001b[39m(CONFIG_FILE_PATH),\n\u001b[0;32m      <a href='vscode-notebook-cell:/d%3A/%5B1%5D%20Study/%5B3%5D%20Data%20Science/%5B6%5D%20Projects/Text-Summarization-App/research/01_data_ingestion.ipynb#X11sZmlsZQ%3D%3D?line=8'>9</a>\u001b[0m     params_path \u001b[39m=\u001b[39m \u001b[39mstr\u001b[39m(PARAMS_FILE_PATH)):\n\u001b[1;32m---> <a href='vscode-notebook-cell:/d%3A/%5B1%5D%20Study/%5B3%5D%20Data%20Science/%5B6%5D%20Projects/Text-Summarization-App/research/01_data_ingestion.ipynb#X11sZmlsZQ%3D%3D?line=10'>11</a>\u001b[0m     \u001b[39mself\u001b[39m\u001b[39m.\u001b[39mconfig \u001b[39m=\u001b[39m read_yaml(config_path)\n\u001b[0;32m     <a href='vscode-notebook-cell:/d%3A/%5B1%5D%20Study/%5B3%5D%20Data%20Science/%5B6%5D%20Projects/Text-Summarization-App/research/01_data_ingestion.ipynb#X11sZmlsZQ%3D%3D?line=11'>12</a>\u001b[0m     \u001b[39mself\u001b[39m\u001b[39m.\u001b[39mparams \u001b[39m=\u001b[39m read_yaml(params_path)\n\u001b[0;32m     <a href='vscode-notebook-cell:/d%3A/%5B1%5D%20Study/%5B3%5D%20Data%20Science/%5B6%5D%20Projects/Text-Summarization-App/research/01_data_ingestion.ipynb#X11sZmlsZQ%3D%3D?line=12'>13</a>\u001b[0m     create_directories([\u001b[39mself\u001b[39m\u001b[39m.\u001b[39mconfig\u001b[39m.\u001b[39martifacts_root])\n",
      "File \u001b[1;32mc:\\Users\\Mohsin Iqbal\\anaconda3\\envs\\textsum\\lib\\site-packages\\ensure\\main.py:849\u001b[0m, in \u001b[0;36mWrappedFunctionReturn.__call__\u001b[1;34m(self, *args, **kwargs)\u001b[0m\n\u001b[0;32m    841\u001b[0m         msg \u001b[39m=\u001b[39m (\n\u001b[0;32m    842\u001b[0m             \u001b[39m\"\u001b[39m\u001b[39mArgument \u001b[39m\u001b[39m{arg}\u001b[39;00m\u001b[39m of type \u001b[39m\u001b[39m{valt}\u001b[39;00m\u001b[39m to \u001b[39m\u001b[39m{f}\u001b[39;00m\u001b[39m \u001b[39m\u001b[39m\"\u001b[39m\n\u001b[0;32m    843\u001b[0m             \u001b[39m\"\u001b[39m\u001b[39mdoes not match annotation type \u001b[39m\u001b[39m{t}\u001b[39;00m\u001b[39m\"\u001b[39m\n\u001b[0;32m    844\u001b[0m         )\n\u001b[0;32m    845\u001b[0m         \u001b[39mraise\u001b[39;00m EnsureError(msg\u001b[39m.\u001b[39mformat(\n\u001b[0;32m    846\u001b[0m             arg\u001b[39m=\u001b[39marg, f\u001b[39m=\u001b[39m\u001b[39mself\u001b[39m\u001b[39m.\u001b[39mf, t\u001b[39m=\u001b[39mtempl, valt\u001b[39m=\u001b[39m\u001b[39mtype\u001b[39m(value)\n\u001b[0;32m    847\u001b[0m         ))\n\u001b[1;32m--> 849\u001b[0m return_val \u001b[39m=\u001b[39m \u001b[39mself\u001b[39;49m\u001b[39m.\u001b[39;49mf(\u001b[39m*\u001b[39;49margs, \u001b[39m*\u001b[39;49m\u001b[39m*\u001b[39;49mkwargs)\n\u001b[0;32m    850\u001b[0m \u001b[39mif\u001b[39;00m \u001b[39mnot\u001b[39;00m \u001b[39misinstance\u001b[39m(return_val, \u001b[39mself\u001b[39m\u001b[39m.\u001b[39mreturn_templ):\n\u001b[0;32m    851\u001b[0m     msg \u001b[39m=\u001b[39m (\n\u001b[0;32m    852\u001b[0m         \u001b[39m\"\u001b[39m\u001b[39mReturn value of \u001b[39m\u001b[39m{f}\u001b[39;00m\u001b[39m of type \u001b[39m\u001b[39m{valt}\u001b[39;00m\u001b[39m \u001b[39m\u001b[39m\"\u001b[39m\n\u001b[0;32m    853\u001b[0m         \u001b[39m\"\u001b[39m\u001b[39mdoes not match annotation type \u001b[39m\u001b[39m{t}\u001b[39;00m\u001b[39m\"\u001b[39m\n\u001b[0;32m    854\u001b[0m     )\n",
      "File \u001b[1;32md:\\[1] study\\[3] data science\\[6] projects\\text-summarization-app\\src\\textSummarizerApp\\utils\\common.py:37\u001b[0m, in \u001b[0;36mread_yaml\u001b[1;34m(filepath)\u001b[0m\n\u001b[0;32m     35\u001b[0m     \u001b[39mraise\u001b[39;00m \u001b[39mValueError\u001b[39;00m(\u001b[39m'\u001b[39m\u001b[39myaml file is empty\u001b[39m\u001b[39m'\u001b[39m)\n\u001b[0;32m     36\u001b[0m \u001b[39mexcept\u001b[39;00m \u001b[39mException\u001b[39;00m \u001b[39mas\u001b[39;00m e:\n\u001b[1;32m---> 37\u001b[0m     \u001b[39mraise\u001b[39;00m \u001b[39mValueError\u001b[39;00m(\u001b[39mf\u001b[39m\u001b[39m\"\u001b[39m\u001b[39mError reading yaml file: \u001b[39m\u001b[39m{\u001b[39;00mfilepath\u001b[39m}\u001b[39;00m\u001b[39m\"\u001b[39m) \u001b[39mfrom\u001b[39;00m \u001b[39me\u001b[39;00m\n",
      "\u001b[1;31mValueError\u001b[0m: Error reading yaml file: config\\config.yaml"
     ]
    }
   ],
   "source": [
    "# Creating the pipline\n",
    "# first need to initialize the configuration manager\n",
    "\n",
    "try:\n",
    "    config = Configuration_Manager()\n",
    "    data_ingestion_config = config.get_data_ingestion_config()\n",
    "    data_ingestion = Data_Ingestion(config=data_ingestion_config)\n",
    "    data_ingestion.download_file()\n",
    "    data_ingestion.unzip_file()\n",
    "except Exception as e:\n",
    "    raise e"
   ]
  },
  {
   "cell_type": "code",
   "execution_count": null,
   "metadata": {},
   "outputs": [],
   "source": []
  }
 ],
 "metadata": {
  "kernelspec": {
   "display_name": "textsum",
   "language": "python",
   "name": "python3"
  },
  "language_info": {
   "codemirror_mode": {
    "name": "ipython",
    "version": 3
   },
   "file_extension": ".py",
   "mimetype": "text/x-python",
   "name": "python",
   "nbconvert_exporter": "python",
   "pygments_lexer": "ipython3",
   "version": "3.8.18"
  },
  "orig_nbformat": 4
 },
 "nbformat": 4,
 "nbformat_minor": 2
}
